{
 "cells": [
  {
   "cell_type": "code",
   "execution_count": 1,
   "metadata": {},
   "outputs": [
    {
     "name": "stdout",
     "output_type": "stream",
     "text": [
      "Directories:\n",
      "\n",
      "Files:\n",
      "builtin_finction.ipynb\n",
      "dir-ans-files.ipynb\n",
      "\n",
      "All Directories and Files:\n",
      "builtin_finction.ipynb\n",
      "dir-ans-files.ipynb\n"
     ]
    }
   ],
   "source": [
    "import os\n",
    "\n",
    "def list_directories_files(path):\n",
    "    print(\"Directories:\")\n",
    "    for entry in os.listdir(path):\n",
    "        if os.path.isdir(os.path.join(path, entry)):\n",
    "            print(entry)\n",
    "\n",
    "    print(\"\\nFiles:\")\n",
    "    for entry in os.listdir(path):\n",
    "        if os.path.isfile(os.path.join(path, entry)):\n",
    "            print(entry)\n",
    "\n",
    "    print(\"\\nAll Directories and Files:\")\n",
    "    for entry in os.listdir(path):\n",
    "        print(entry)\n",
    "\n",
    "path = \".\"\n",
    "list_directories_files(path)"
   ]
  },
  {
   "cell_type": "code",
   "execution_count": 2,
   "metadata": {},
   "outputs": [
    {
     "name": "stdout",
     "output_type": "stream",
     "text": [
      "Existence: False\n",
      "Readability: False\n",
      "Writability: False\n",
      "Executability: False\n"
     ]
    }
   ],
   "source": [
    "import os\n",
    "\n",
    "def check_access(path):\n",
    "    print(f\"Existence: {os.path.exists(path)}\")\n",
    "    print(f\"Readability: {os.access(path, os.R_OK)}\")\n",
    "    print(f\"Writability: {os.access(path, os.W_OK)}\")\n",
    "    print(f\"Executability: {os.access(path, os.X_OK)}\")\n",
    "\n",
    "path = \"example.txt\"\n",
    "check_access(path)"
   ]
  },
  {
   "cell_type": "code",
   "execution_count": 3,
   "metadata": {},
   "outputs": [
    {
     "name": "stdout",
     "output_type": "stream",
     "text": [
      "Path does not exist.\n"
     ]
    }
   ],
   "source": [
    "import os\n",
    "\n",
    "def check_path(path):\n",
    "    if os.path.exists(path):\n",
    "        print(f\"Path exists.\")\n",
    "        print(f\"Directory: {os.path.dirname(path)}\")\n",
    "        print(f\"Filename: {os.path.basename(path)}\")\n",
    "    else:\n",
    "        print(\"Path does not exist.\")\n",
    "\n",
    "path = \"example.txt\"\n",
    "check_path(path)"
   ]
  },
  {
   "cell_type": "code",
   "execution_count": 10,
   "metadata": {},
   "outputs": [
    {
     "name": "stdout",
     "output_type": "stream",
     "text": [
      "Number of lines: 3\n"
     ]
    }
   ],
   "source": [
    "def count_lines(filename):\n",
    "    with open(filename, 'r') as file:\n",
    "        return len(file.readlines())\n",
    "\n",
    "filename = \"example.txt\"\n",
    "print(f\"Number of lines: {count_lines(filename)}\")"
   ]
  },
  {
   "cell_type": "code",
   "execution_count": 11,
   "metadata": {},
   "outputs": [],
   "source": [
    "def write_list_to_file(filename, lst):\n",
    "    with open(filename, 'w') as file:\n",
    "        for item in lst:\n",
    "            file.write(f\"{item}\\n\")\n",
    "\n",
    "filename = \"output.txt\"\n",
    "lst = [\"Line 1\", \"Line 2\", \"Line 3\"]\n",
    "write_list_to_file(filename, lst)"
   ]
  },
  {
   "cell_type": "code",
   "execution_count": null,
   "metadata": {},
   "outputs": [],
   "source": [
    "import string\n",
    "\n",
    "def generate_text_files():\n",
    "    for letter in string.ascii_uppercase:\n",
    "        with open(f\"{letter}.txt\", 'w') as file:\n",
    "            file.write(f\"This is file {letter}.txt\")\n",
    "\n",
    "generate_text_files()"
   ]
  },
  {
   "cell_type": "code",
   "execution_count": 8,
   "metadata": {},
   "outputs": [
    {
     "ename": "FileNotFoundError",
     "evalue": "[Errno 2] No such file or directory: 'source.txt'",
     "output_type": "error",
     "traceback": [
      "\u001b[1;31m---------------------------------------------------------------------------\u001b[0m",
      "\u001b[1;31mFileNotFoundError\u001b[0m                         Traceback (most recent call last)",
      "Cell \u001b[1;32mIn[8], line 7\u001b[0m\n\u001b[0;32m      5\u001b[0m src \u001b[38;5;241m=\u001b[39m \u001b[38;5;124m\"\u001b[39m\u001b[38;5;124msource.txt\u001b[39m\u001b[38;5;124m\"\u001b[39m\n\u001b[0;32m      6\u001b[0m dst \u001b[38;5;241m=\u001b[39m \u001b[38;5;124m\"\u001b[39m\u001b[38;5;124mdestination.txt\u001b[39m\u001b[38;5;124m\"\u001b[39m\n\u001b[1;32m----> 7\u001b[0m copy_file(src, dst)\n",
      "Cell \u001b[1;32mIn[8], line 2\u001b[0m, in \u001b[0;36mcopy_file\u001b[1;34m(src, dst)\u001b[0m\n\u001b[0;32m      1\u001b[0m \u001b[38;5;28;01mdef\u001b[39;00m \u001b[38;5;21mcopy_file\u001b[39m(src, dst):\n\u001b[1;32m----> 2\u001b[0m     \u001b[38;5;28;01mwith\u001b[39;00m \u001b[38;5;28mopen\u001b[39m(src, \u001b[38;5;124m'\u001b[39m\u001b[38;5;124mr\u001b[39m\u001b[38;5;124m'\u001b[39m) \u001b[38;5;28;01mas\u001b[39;00m source, \u001b[38;5;28mopen\u001b[39m(dst, \u001b[38;5;124m'\u001b[39m\u001b[38;5;124mw\u001b[39m\u001b[38;5;124m'\u001b[39m) \u001b[38;5;28;01mas\u001b[39;00m destination:\n\u001b[0;32m      3\u001b[0m         destination\u001b[38;5;241m.\u001b[39mwrite(source\u001b[38;5;241m.\u001b[39mread())\n",
      "File \u001b[1;32mc:\\Users\\omaru\\anaconda3\\Lib\\site-packages\\IPython\\core\\interactiveshell.py:324\u001b[0m, in \u001b[0;36m_modified_open\u001b[1;34m(file, *args, **kwargs)\u001b[0m\n\u001b[0;32m    317\u001b[0m \u001b[38;5;28;01mif\u001b[39;00m file \u001b[38;5;129;01min\u001b[39;00m {\u001b[38;5;241m0\u001b[39m, \u001b[38;5;241m1\u001b[39m, \u001b[38;5;241m2\u001b[39m}:\n\u001b[0;32m    318\u001b[0m     \u001b[38;5;28;01mraise\u001b[39;00m \u001b[38;5;167;01mValueError\u001b[39;00m(\n\u001b[0;32m    319\u001b[0m         \u001b[38;5;124mf\u001b[39m\u001b[38;5;124m\"\u001b[39m\u001b[38;5;124mIPython won\u001b[39m\u001b[38;5;124m'\u001b[39m\u001b[38;5;124mt let you open fd=\u001b[39m\u001b[38;5;132;01m{\u001b[39;00mfile\u001b[38;5;132;01m}\u001b[39;00m\u001b[38;5;124m by default \u001b[39m\u001b[38;5;124m\"\u001b[39m\n\u001b[0;32m    320\u001b[0m         \u001b[38;5;124m\"\u001b[39m\u001b[38;5;124mas it is likely to crash IPython. If you know what you are doing, \u001b[39m\u001b[38;5;124m\"\u001b[39m\n\u001b[0;32m    321\u001b[0m         \u001b[38;5;124m\"\u001b[39m\u001b[38;5;124myou can use builtins\u001b[39m\u001b[38;5;124m'\u001b[39m\u001b[38;5;124m open.\u001b[39m\u001b[38;5;124m\"\u001b[39m\n\u001b[0;32m    322\u001b[0m     )\n\u001b[1;32m--> 324\u001b[0m \u001b[38;5;28;01mreturn\u001b[39;00m io_open(file, \u001b[38;5;241m*\u001b[39margs, \u001b[38;5;241m*\u001b[39m\u001b[38;5;241m*\u001b[39mkwargs)\n",
      "\u001b[1;31mFileNotFoundError\u001b[0m: [Errno 2] No such file or directory: 'source.txt'"
     ]
    }
   ],
   "source": [
    "def copy_file(src, dst):\n",
    "    with open(src, 'r') as source, open(dst, 'w') as destination:\n",
    "        destination.write(source.read())\n",
    "\n",
    "src = \"source.txt\"\n",
    "dst = \"destination.txt\"\n",
    "copy_file(src, dst)"
   ]
  },
  {
   "cell_type": "code",
   "execution_count": 12,
   "metadata": {},
   "outputs": [
    {
     "name": "stdout",
     "output_type": "stream",
     "text": [
      "File example.txt deleted.\n"
     ]
    }
   ],
   "source": [
    "import os\n",
    "\n",
    "def delete_file(path):\n",
    "    if os.path.exists(path) and os.access(path, os.W_OK):\n",
    "        os.remove(path)\n",
    "        print(f\"File {path} deleted.\")\n",
    "    else:\n",
    "        print(f\"Cannot delete {path}.\")\n",
    "\n",
    "path = \"example.txt\"\n",
    "delete_file(path)"
   ]
  }
 ],
 "metadata": {
  "kernelspec": {
   "display_name": "base",
   "language": "python",
   "name": "python3"
  },
  "language_info": {
   "codemirror_mode": {
    "name": "ipython",
    "version": 3
   },
   "file_extension": ".py",
   "mimetype": "text/x-python",
   "name": "python",
   "nbconvert_exporter": "python",
   "pygments_lexer": "ipython3",
   "version": "3.12.7"
  }
 },
 "nbformat": 4,
 "nbformat_minor": 2
}
