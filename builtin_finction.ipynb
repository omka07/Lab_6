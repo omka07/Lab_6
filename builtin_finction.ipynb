{
 "cells": [
  {
   "cell_type": "code",
   "execution_count": 1,
   "metadata": {},
   "outputs": [
    {
     "name": "stdout",
     "output_type": "stream",
     "text": [
      "24\n"
     ]
    }
   ],
   "source": [
    "from functools import reduce\n",
    "\n",
    "def multiply_list(numbers):\n",
    "    return reduce(lambda x, y: x * y, numbers)\n",
    "\n",
    "numbers = [1, 2, 3, 4]\n",
    "print(multiply_list(numbers)) "
   ]
  },
  {
   "cell_type": "code",
   "execution_count": 2,
   "metadata": {},
   "outputs": [
    {
     "name": "stdout",
     "output_type": "stream",
     "text": [
      "Upper case letters: 2, Lower case letters: 8\n"
     ]
    }
   ],
   "source": [
    "def count_upper_lower(s):\n",
    "    upper = sum(1 for char in s if char.isupper())\n",
    "    lower = sum(1 for char in s if char.islower())\n",
    "    return upper, lower\n",
    "\n",
    "s = \"Hello World\"\n",
    "upper, lower = count_upper_lower(s)\n",
    "print(f\"Upper case letters: {upper}, Lower case letters: {lower}\")"
   ]
  },
  {
   "cell_type": "code",
   "execution_count": 3,
   "metadata": {},
   "outputs": [
    {
     "name": "stdout",
     "output_type": "stream",
     "text": [
      "True\n"
     ]
    }
   ],
   "source": [
    "def is_palindrome(s):\n",
    "    return s == s[::-1]\n",
    "\n",
    "s = \"madam\"\n",
    "print(is_palindrome(s))"
   ]
  },
  {
   "cell_type": "code",
   "execution_count": 4,
   "metadata": {},
   "outputs": [
    {
     "name": "stdout",
     "output_type": "stream",
     "text": [
      "Square root of 25100 after 2123 milliseconds is 158.42979517754858\n"
     ]
    }
   ],
   "source": [
    "import time\n",
    "import math\n",
    "\n",
    "def delayed_sqrt(number, milliseconds):\n",
    "    time.sleep(milliseconds / 1000)\n",
    "    return math.sqrt(number)\n",
    "\n",
    "number = 25100\n",
    "milliseconds = 2123\n",
    "result = delayed_sqrt(number, milliseconds)\n",
    "print(f\"Square root of {number} after {milliseconds} milliseconds is {result}\")"
   ]
  },
  {
   "cell_type": "code",
   "execution_count": 5,
   "metadata": {},
   "outputs": [
    {
     "name": "stdout",
     "output_type": "stream",
     "text": [
      "False\n"
     ]
    }
   ],
   "source": [
    "def all_true(t):\n",
    "    return all(t)\n",
    "\n",
    "# Example usage:\n",
    "t = (True, True, False)\n",
    "print(all_true(t))  # Output: False"
   ]
  }
 ],
 "metadata": {
  "kernelspec": {
   "display_name": "base",
   "language": "python",
   "name": "python3"
  },
  "language_info": {
   "codemirror_mode": {
    "name": "ipython",
    "version": 3
   },
   "file_extension": ".py",
   "mimetype": "text/x-python",
   "name": "python",
   "nbconvert_exporter": "python",
   "pygments_lexer": "ipython3",
   "version": "3.12.7"
  }
 },
 "nbformat": 4,
 "nbformat_minor": 2
}
